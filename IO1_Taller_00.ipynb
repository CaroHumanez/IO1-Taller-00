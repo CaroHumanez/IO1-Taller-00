{
  "nbformat": 4,
  "nbformat_minor": 0,
  "metadata": {
    "colab": {
      "provenance": [],
      "toc_visible": true,
      "authorship_tag": "ABX9TyN+d/PzJIX+QrD66rDQxvrQ",
      "include_colab_link": true
    },
    "kernelspec": {
      "name": "python3",
      "display_name": "Python 3"
    },
    "language_info": {
      "name": "python"
    }
  },
  "cells": [
    {
      "cell_type": "markdown",
      "metadata": {
        "id": "view-in-github",
        "colab_type": "text"
      },
      "source": [
        "<a href=\"https://colab.research.google.com/github/CaroHumanez/IO1-Taller-00/blob/main/IO1_Taller_00.ipynb\" target=\"_parent\"><img src=\"https://colab.research.google.com/assets/colab-badge.svg\" alt=\"Open In Colab\"/></a>"
      ]
    },
    {
      "cell_type": "markdown",
      "source": [
        "# Sección 1"
      ],
      "metadata": {
        "id": "mtxR6GnMl3XH"
      }
    },
    {
      "cell_type": "markdown",
      "source": [
        "###carolina\n",
        "##Titulo\n",
        "#subtitulo\n",
        "\n",
        "**Pruebas**\n",
        "\n",
        "\n"
      ],
      "metadata": {
        "id": "SUOk9Byrj8-_"
      }
    },
    {
      "cell_type": "code",
      "execution_count": null,
      "metadata": {
        "id": "zso3zbZHjoxi"
      },
      "outputs": [],
      "source": [
        "print(\"asd\")"
      ]
    }
  ]
}